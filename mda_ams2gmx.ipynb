{
 "cells": [
  {
   "cell_type": "code",
   "execution_count": 1,
   "id": "f0b11fd1",
   "metadata": {},
   "outputs": [
    {
     "name": "stderr",
     "output_type": "stream",
     "text": [
      "<frozen importlib._bootstrap>:228: RuntimeWarning: scipy._lib.messagestream.MessageStream size changed, may indicate binary incompatibility. Expected 56 from C header, got 64 from PyObject\n",
      "/Users/zido2651/opt/anaconda3/lib/python3.9/site-packages/MDAnalysis/analysis/data/filenames.py:110: DeprecationWarning: pkg_resources is deprecated as an API. See https://setuptools.pypa.io/en/latest/pkg_resources.html\n",
      "  from pkg_resources import resource_filename\n",
      "/Users/zido2651/opt/anaconda3/lib/python3.9/site-packages/MDAnalysis/coordinates/GRO.py:421: UserWarning: Supplied AtomGroup was missing the following attributes: resnames. These will be written with default values. Alternatively these can be supplied as keyword arguments.\n",
      "  warnings.warn(\n",
      "/Users/zido2651/opt/anaconda3/lib/python3.9/site-packages/MDAnalysis/coordinates/GRO.py:479: UserWarning: missing dimension - setting unit cell to zeroed box [0., 0., 0.]\n",
      "  warnings.warn(wmsg)\n",
      "/Users/zido2651/opt/anaconda3/lib/python3.9/site-packages/MDAnalysis/coordinates/XTC.py:105: UserWarning: Reader has no dt information, set to 1.0 ps\n",
      "  time = ts.time\n"
     ]
    }
   ],
   "source": [
    "import MDAnalysis as mda\n",
    "from MDAnalysis.analysis import dihedrals\n",
    "import matplotlib.pyplot as plt\n",
    "import numpy as np\n",
    "%matplotlib inline\n",
    "\n",
    "u = mda.Universe('BaCl2_0p1M_0p1eperC.xyz')\n",
    "system = u.select_atoms(\"all\")\n",
    "system.write('BaCl2_0p1M_0p1eperC.gro')\n",
    "system.write('BaCl2_0p1M_0p1eperC.xtc', frames='all')"
   ]
  },
  {
   "cell_type": "code",
   "execution_count": 2,
   "id": "b6013605",
   "metadata": {},
   "outputs": [
    {
     "name": "stderr",
     "output_type": "stream",
     "text": [
      "/Users/zido2651/opt/anaconda3/lib/python3.9/site-packages/Bio/Application/__init__.py:40: BiopythonDeprecationWarning: The Bio.Application modules and modules relying on it have been deprecated.\n",
      "\n",
      "Due to the on going maintenance burden of keeping command line application\n",
      "wrappers up to date, we have decided to deprecate and eventually remove these\n",
      "modules.\n",
      "\n",
      "We instead now recommend building your command line and invoking it directly\n",
      "with the subprocess module.\n",
      "  warnings.warn(\n"
     ]
    },
    {
     "data": {
      "application/vnd.jupyter.widget-view+json": {
       "model_id": "a4bb36104c554f648c3c3a10a41595cf",
       "version_major": 2,
       "version_minor": 0
      },
      "text/plain": []
     },
     "metadata": {},
     "output_type": "display_data"
    },
    {
     "name": "stderr",
     "output_type": "stream",
     "text": [
      "/Users/zido2651/opt/anaconda3/lib/python3.9/site-packages/MDAnalysis/lib/mdamath.py:295: RuntimeWarning: invalid value encountered in scalar divide\n",
      "  alpha = np.rad2deg(np.arccos(np.dot(y, z) / (ly * lz)))\n",
      "/Users/zido2651/opt/anaconda3/lib/python3.9/site-packages/MDAnalysis/lib/mdamath.py:296: RuntimeWarning: invalid value encountered in scalar divide\n",
      "  beta = np.rad2deg(np.arccos(np.dot(x, z) / (lx * lz)))\n",
      "/Users/zido2651/opt/anaconda3/lib/python3.9/site-packages/MDAnalysis/lib/mdamath.py:297: RuntimeWarning: invalid value encountered in scalar divide\n",
      "  gamma = np.rad2deg(np.arccos(np.dot(x, y) / (lx * ly)))\n",
      "/Users/zido2651/opt/anaconda3/lib/python3.9/site-packages/MDAnalysis/core/groups.py:445: DeprecationWarning: The 'pbc' kwarg has been deprecated and will be removed in version 3.0., please use 'wrap' instead\n",
      "  warnings.warn(\"The 'pbc' kwarg has been deprecated and will be \"\n"
     ]
    },
    {
     "name": "stdout",
     "output_type": "stream",
     "text": [
      "[14.44854333 14.04361656 75.00000763]\n",
      "[ 14.8008  14.6544 300.    ]\n"
     ]
    }
   ],
   "source": [
    "import MDAnalysis as mda\n",
    "from MDAnalysis.analysis import dihedrals\n",
    "import MDAnalysis.transformations\n",
    "import matplotlib.pyplot as plt\n",
    "import numpy as np\n",
    "%matplotlib inline\n",
    "import nglview as nv\n",
    "\n",
    "u = mda.Universe('BaCl2_0p1M_0p1eperC_mod.gro','BaCl2_0p1M_0p1eperC.xtc')\n",
    "\n",
    "dim = np.array([29.6016, 29.3088, 600, 90, 90, 90])\n",
    "transform = mda.transformations.boxdimensions.set_dimensions(dim)\n",
    "u.trajectory.add_transformations(transform)\n",
    "\n",
    "surface = u.select_atoms(\"resname GRP\")\n",
    "system = u.select_atoms(\"all\")\n",
    "\n",
    "with mda.Writer('BaCl2_0p1M_0p1eperC_new.xtc', system.n_atoms) as w:\n",
    "    for ts in u.trajectory:\n",
    "        surface_center = surface.center_of_geometry(pbc=True)\n",
    "        dim = ts.triclinic_dimensions\n",
    "        box_center = np.sum(dim, axis=0)/2\n",
    "        u.atoms.translate(np.array([box_center[0],box_center[1],box_center[2]]))\n",
    "        u.atoms.translate(np.array([surface_center[0]-box_center[0],surface_center[1]-box_center[1],-50]))\n",
    "        system = u.select_atoms(\"all\")\n",
    "        w.write(system)\n",
    "        \n",
    "with mda.Writer('BaCl2_0p1M_0p1eperC_new.gro', system.n_atoms) as w:\n",
    "    surface_center = surface.center_of_geometry(pbc=True)\n",
    "    print(surface_center)\n",
    "    box_center = np.sum(dim, axis=0)/2\n",
    "    print(box_center)\n",
    "    u.atoms.translate(np.array([box_center[0],box_center[1],box_center[2]]))\n",
    "    u.atoms.translate(np.array([surface_center[0]-box_center[0],surface_center[1]-box_center[1],-50]))\n",
    "    system = u.select_atoms(\"all\")\n",
    "    w.write(system)\n",
    "\n",
    "#system = u.select_atoms(\"all\")\n",
    "#system.write('BaCl_eq_long_new.gro')\n",
    "#system.write('BaCl_eq_long_new.xtc', frames='all')"
   ]
  },
  {
   "cell_type": "code",
   "execution_count": 4,
   "id": "8489d4d5",
   "metadata": {},
   "outputs": [
    {
     "name": "stderr",
     "output_type": "stream",
     "text": [
      "/Users/zido2651/opt/anaconda3/lib/python3.9/site-packages/MDAnalysis/topology/PDBParser.py:331: UserWarning: Element information is missing, elements attribute will not be populated. If needed these can be guessed using MDAnalysis.topology.guessers.\n",
      "  warnings.warn(\"Element information is missing, elements attribute \"\n"
     ]
    },
    {
     "name": "stdout",
     "output_type": "stream",
     "text": [
      "[ 12.20103453  12.20106546 162.81083593]\n",
      "[ 12.621856  12.621856 150.      ]\n"
     ]
    }
   ],
   "source": [
    "import MDAnalysis as mda\n",
    "from MDAnalysis.analysis import dihedrals\n",
    "import MDAnalysis.transformations\n",
    "import matplotlib.pyplot as plt\n",
    "import numpy as np\n",
    "%matplotlib inline\n",
    "import nglview as nv\n",
    "\n",
    "u = mda.Universe('BaCl_eq_long.xyz')\n",
    "system = u.select_atoms(\"all\")\n",
    "system.write('BaCl_eq_long.xtc', frames='all')\n",
    "\n",
    "\n",
    "u = mda.Universe('BaCl_eq_long_script_mod.pdb','BaCl_eq_long.xtc')\n",
    "\n",
    "dim = np.array([25.243712, 25.243712, 300, 90, 90, 90])\n",
    "transform = mda.transformations.boxdimensions.set_dimensions(dim)\n",
    "u.trajectory.add_transformations(transform)\n",
    "\n",
    "surface = u.select_atoms(\"resname GRP\")\n",
    "system = u.select_atoms(\"all\")\n",
    "\n",
    "with mda.Writer('BaCl_eq_long_new_2.xtc', system.n_atoms) as w:\n",
    "    for ts in u.trajectory:\n",
    "        surface_center = surface.center_of_geometry(pbc=True)\n",
    "        dim = ts.triclinic_dimensions\n",
    "        box_center = np.sum(dim, axis=0)/2\n",
    "        u.atoms.translate(np.array([box_center[0],box_center[1],box_center[2]]))\n",
    "        u.atoms.translate(np.array([surface_center[0]-box_center[0],surface_center[1]-box_center[1],-50]))\n",
    "        system = u.select_atoms(\"all\")\n",
    "        w.write(system)\n",
    "        \n",
    "with mda.Writer('BaCl_eq_long_new_2.gro', system.n_atoms) as w:\n",
    "    surface_center = surface.center_of_geometry(pbc=True)\n",
    "    print(surface_center)\n",
    "    box_center = np.sum(dim, axis=0)/2\n",
    "    print(box_center)\n",
    "    u.atoms.translate(np.array([box_center[0],box_center[1],box_center[2]]))\n",
    "    u.atoms.translate(np.array([surface_center[0]-box_center[0],surface_center[1]-box_center[1],-50]))\n",
    "    system = u.select_atoms(\"all\")\n",
    "    w.write(system)\n",
    "\n",
    "#system = u.select_atoms(\"all\")\n",
    "#system.write('BaCl_eq_long_new_2.gro')\n",
    "#system.write('BaCl_eq_long_new_2.xtc', frames='all')"
   ]
  },
  {
   "cell_type": "code",
   "execution_count": null,
   "id": "a2d1763c-5ca4-46c4-ad15-bcaa35a6ce4e",
   "metadata": {},
   "outputs": [],
   "source": []
  }
 ],
 "metadata": {
  "kernelspec": {
   "display_name": "Python 3 (ipykernel)",
   "language": "python",
   "name": "python3"
  },
  "language_info": {
   "codemirror_mode": {
    "name": "ipython",
    "version": 3
   },
   "file_extension": ".py",
   "mimetype": "text/x-python",
   "name": "python",
   "nbconvert_exporter": "python",
   "pygments_lexer": "ipython3",
   "version": "3.9.12"
  }
 },
 "nbformat": 4,
 "nbformat_minor": 5
}
